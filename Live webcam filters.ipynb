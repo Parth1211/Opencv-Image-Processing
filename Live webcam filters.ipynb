{
 "cells": [
  {
   "cell_type": "code",
   "execution_count": 28,
   "metadata": {},
   "outputs": [],
   "source": [
    "import cv2\n",
    "import numpy as np\n",
    "from skimage import io, img_as_float\n",
    "from skimage.filters import gaussian,median\n",
    "from matplotlib import pyplot as plt\n",
    "from skimage.morphology import disk\n",
    "from IPython.display import Image\n"
   ]
  },
  {
   "cell_type": "markdown",
   "metadata": {},
   "source": [
    "### Normal webcam video switched on"
   ]
  },
  {
   "cell_type": "code",
   "execution_count": 29,
   "metadata": {},
   "outputs": [],
   "source": [
    "capture = cv2.VideoCapture(0)\n",
    " \n",
    "while(True):\n",
    "     \n",
    "    ret, frame = capture.read()\n",
    "     \n",
    "    cv2.imshow('video', frame)\n",
    "     \n",
    "    if cv2.waitKey(1) == 27:\n",
    "        break\n",
    " \n",
    "capture.release()\n",
    "cv2.destroyAllWindows()       # Exit by escaping the ESC key"
   ]
  },
  {
   "cell_type": "markdown",
   "metadata": {},
   "source": [
    "## Different sets of numpy, inbuilt kernels for image processing"
   ]
  },
  {
   "cell_type": "code",
   "execution_count": 34,
   "metadata": {},
   "outputs": [],
   "source": [
    "capture = cv2.VideoCapture(0)\n",
    "  \n",
    "while(True):\n",
    "      \n",
    "    ret, frame = capture.read()\n",
    "    k1 = np.array([[-1, -1, -1],      # outline kernel 1\n",
    "                   [-1, 8, -1],\n",
    "                   [-1, -1, -1]])\n",
    "    \n",
    "    k2 = np.array([[0, 1, 0],      # outline kernel 2\n",
    "                   [1, -4, 1],\n",
    "                   [0, 1, 0]])\n",
    "    \n",
    "    k3 = np.array([[1, 0, -1],      # outline kernel 3\n",
    "                   [0, 0, 0],\n",
    "                   [-1, 0, 1]])    \n",
    "    \n",
    "    k4 = np.array([[0, -1, 0],      # sharpening kernel\n",
    "                   [-1, 5, -1],\n",
    "                   [0, -1, 0]])\n",
    "    \n",
    "    k5 = np.array([[1/16, 1/8, 1/16],      # gaussian noise removal(blurring) kernel\n",
    "                   [1/8, 1/4, 1/8],\n",
    "                   [1/16, 1/8, 1/16]])\n",
    "    \n",
    "    k6 = np.array([[2, -1, 0],      # emboss kernel\n",
    "                   [-1, 1, 1],\n",
    "                   [0, 1, 2]])\n",
    "    \n",
    "    k7 = np.array([[3, -1, 2],      # custom kernel, we can also try anything we think!\n",
    "                   [-1, 1, 1],\n",
    "                   [-2, 1, -3]])\n",
    "\n",
    "    \n",
    "    kerneled_image = cv2.filter2D(frame, -1, k1)         # Can choose the kernel number we want (last parameter of the function)\n",
    "    grayFrame = cv2.cvtColor(frame, cv2.COLOR_BGR2GRAY)\n",
    "    median_using_cv2 = cv2.medianBlur(kerneled_image, 3)     # For S&P noise removal in outline kernel\n",
    "    \n",
    "    cv2.imshow('video', frame)\n",
    "    cv2.imshow('using filter', kerneled_image)\n",
    "    cv2.imshow('S&P removed', median_using_cv2)\n",
    "      \n",
    "    if cv2.waitKey(1) == 27:\n",
    "        break\n",
    "  \n",
    "capture.release()\n",
    "cv2.destroyAllWindows()"
   ]
  },
  {
   "cell_type": "code",
   "execution_count": null,
   "metadata": {},
   "outputs": [],
   "source": []
  }
 ],
 "metadata": {
  "kernelspec": {
   "display_name": "Python 3",
   "language": "python",
   "name": "python3"
  },
  "language_info": {
   "codemirror_mode": {
    "name": "ipython",
    "version": 3
   },
   "file_extension": ".py",
   "mimetype": "text/x-python",
   "name": "python",
   "nbconvert_exporter": "python",
   "pygments_lexer": "ipython3",
   "version": "3.8.5"
  }
 },
 "nbformat": 4,
 "nbformat_minor": 4
}
